{
 "cells": [
  {
   "cell_type": "code",
   "execution_count": null,
   "metadata": {},
   "outputs": [],
   "source": [
    "import json\n",
    "import geopandas as gp\n",
    "import pandas as pd\n",
    "import numpy as np\n",
    "from data.fetch_data import get_dataframe\n",
    "from bokeh.io import output_notebook, show, output_file, export_png, push_notebook\n",
    "from bokeh.plotting import figure, gmap\n",
    "from bokeh.models import GeoJSONDataSource, GMapOptions, ColumnDataSource, WheelZoomTool, LinearColorMapper, ColorBar, CustomJS\n",
    "from bokeh.palettes import mpl, viridis\n",
    "from bokeh.tile_providers import get_provider, Vendors\n",
    "from bokeh.transform import factor_cmap\n",
    "from bokeh.models.widgets import Slider, Toggle\n",
    "from bokeh.layouts import column, grid, Spacer\n",
    "from bokeh.models.tools import HoverTool"
   ]
  },
  {
   "cell_type": "code",
   "execution_count": null,
   "metadata": {},
   "outputs": [],
   "source": [
    "# # Filter and drop null rows\n",
    "# filt = [\"date\", \"block\", \"primary_type\", \"description\", \"location_description\", \"arrest\", \"year\", \"latitude\", \"longitude\"]\n",
    "# df = get_dataframe(\"chicago_crime\", \"crime\")[filt].dropna()\n",
    "\n",
    "# # Extract time info into seperate columns for easy querying\n",
    "# df[\"year\"] = df[\"year\"].astype(\"int16\")\n",
    "# df[\"month\"] = df.date.apply(lambda x: x.month).astype(\"int8\")\n",
    "# df[\"day\"] = df.date.apply(lambda x: x.day).astype(\"int8\")\n",
    "# df[\"hour\"] = df.date.apply(lambda x: x.hour).astype(\"int8\")\n",
    "\n",
    "# # Create geometry from lat and long, project to the web mercator, and drop unnecessary rows\n",
    "# gdf = gp.GeoDataFrame(df, geometry=gp.points_from_xy(df.longitude, df.latitude), crs={'init': 'epsg:4326'})\n",
    "# gdf = gdf.to_crs({'init': 'epsg:3857'})\n",
    "# gdf = gdf.drop([\"latitude\", \"longitude\", \"date\"], axis=1)\n",
    "gdf = gp.read_file(\"data/chicago_crime.geojson\")"
   ]
  },
  {
   "cell_type": "code",
   "execution_count": null,
   "metadata": {},
   "outputs": [],
   "source": [
    "# gdf.to_file(\"chicago_crime.geojson\", driver='GeoJSON')"
   ]
  },
  {
   "cell_type": "code",
   "execution_count": null,
   "metadata": {},
   "outputs": [],
   "source": [
    "gdf2018 = gdf[gdf.year == 2018]\n",
    "gdfSMALL = gdf2018[[\"primary_type\", \"description\", \"month\", \"geometry\"]]\n",
    "months = {}\n",
    "counts = {}\n",
    "for i in range(1,13):\n",
    "    group = gdf2018[gdf2018.month == i].groupby(\"primary_type\").count().sort_values(\"year\",ascending=False).reset_index()[:10]\n",
    "    counts[i] = {}\n",
    "    counts[i]['x'] = list(group[\"primary_type\"])\n",
    "    counts[i]['y'] = list(group[\"year\"])\n",
    "    months[i] = gdfSMALL[gdfSMALL.month == i].to_json()"
   ]
  },
  {
   "cell_type": "code",
   "execution_count": null,
   "metadata": {},
   "outputs": [],
   "source": [
    "bound = gp.read_file(\"./data/comm_areas.geojson\").rename({\"community\": \"name\"}, axis=1).to_crs({'init': 'epsg:3857'})\n",
    "bound = bound[[\"name\", \"area_num_1\", \"geometry\"]].rename({\"area_num_1\": \"com_num\"}, axis=1)\n",
    "bound[\"com_num\"] = bound[\"com_num\"].astype(\"int8\")\n",
    "\n",
    "pops = pd.read_csv(\"data/Census-Data-by-Chicago-Community-Area-2018.csv\")[[\"Community\", \"Community Number\", \"Total Population\"]].rename({\"Total Population\": \"pop\"}, axis=1)\n",
    "# pops = pops.rename({\"Community Number\": \"comnum\"}, axis=1)\n",
    "pops[\"Community Number\"] = pops[\"Community Number\"].astype(\"int8\")\n",
    "pops[\"pop\"] = pops[\"pop\"].apply(lambda x: x.replace(',' , '')).astype(\"int64\")\n",
    "\n",
    "bound = bound.merge(pops, left_on=\"com_num\",right_on=\"Community Number\")[[\"Community\", \"com_num\", \"pop\", \"geometry\"]]"
   ]
  },
  {
   "cell_type": "code",
   "execution_count": null,
   "metadata": {
    "scrolled": true
   },
   "outputs": [],
   "source": [
    "# crime_nums = {}\n",
    "# for y in range(2016,2019):\n",
    "#     crime_nums[y] = {}\n",
    "#     for m in range(1,13):\n",
    "#         print(y, m, end=' ')\n",
    "#         crime_nums[y][m] = {}\n",
    "#         filt = (gdf[\"year\"] == y) & (gdf[\"month\"] == m)\n",
    "#         geom = gdf[filt].geometry\n",
    "#         for _, row in bound.iterrows():\n",
    "#             cn = row[\"com_num\"]\n",
    "#             com = row[\"geometry\"]\n",
    "#             crime_nums[y][m][cn] = 0\n",
    "#             for point in geom:\n",
    "#                 if com.contains(point):\n",
    "#                     crime_nums[y][m][cn] += 1\n",
    "#         print(\"DONE\")\n",
    "with open('data/crime_nums.json') as fp:\n",
    "     crime_nums = json.load(fp)"
   ]
  },
  {
   "cell_type": "code",
   "execution_count": null,
   "metadata": {},
   "outputs": [],
   "source": [
    "counts[1]['x']"
   ]
  },
  {
   "cell_type": "code",
   "execution_count": null,
   "metadata": {
    "scrolled": false
   },
   "outputs": [],
   "source": [
    "# Init figure with map tile\n",
    "tools = \"pan,wheel_zoom,box_zoom,reset\"\n",
    "p = figure(x_axis_type=\"mercator\", y_axis_type=\"mercator\",  plot_height=900, plot_width=700, title=\"Chicago Crime 2018\", tools=tools, \n",
    "           active_scroll=\"wheel_zoom\")\n",
    "p.add_tile(get_provider(Vendors.CARTODBPOSITRON_RETINA))\n",
    "\n",
    "# Add hover tool\n",
    "hover = HoverTool(names=[\"crime_points\"], tooltips=[(\"type\", \"@primary_type\"),(\"desc\", \"@description\")])\n",
    "p.add_tools(hover)\n",
    "\n",
    "# Add crime data points\n",
    "start_month = 6\n",
    "crime_s = GeoJSONDataSource(geojson = months[start_month])\n",
    "p.circle(x='x', y='y', radius=8, color='red', source = crime_s, name=\"crime_points\")\n",
    "\n",
    "# Make bar graph\n",
    "p2 = figure(x_range=group.primary_type, toolbar_location=None, title=\"Crime Counts\", plot_height=900, plot_width=900)\n",
    "p2.xgrid.grid_line_color = None\n",
    "\n",
    "bar_s = ColumnDataSource(data=counts[start_month])\n",
    "p2.vbar(x='x', top='y', width=0.9, source=bar_s,\n",
    "       line_color='white', fill_color=factor_cmap('x', palette=viridis(len(group)), factors=counts[1]['x'])) # , legend_field=\"primary_type\"\n",
    "\n",
    "# Create slider and callback\n",
    "slider = Slider(start=1, end=12, value=start_month, step=1, title='Month')\n",
    "s_callback = CustomJS(args=dict(crime_s=crime_s, months=months, bar_s=bar_s, counts=counts), code=\"\"\"\n",
    "    var N = cb_obj.value\n",
    "    crime_s.geojson = months[N]\n",
    "    crime_s.change.emit();\n",
    "    bar_s.data = counts[N]\n",
    "    bar_s.change.emit();\n",
    "\"\"\")\n",
    "slider.js_on_change('value', s_callback)\n",
    "\n",
    "# Add community area boundaries\n",
    "bound_s = GeoJSONDataSource(geojson = bound.to_json())\n",
    "comm_areas = p.patches('xs', 'ys', source = bound_s, line_color = 'blue', line_width = 0.5, fill_alpha=0)\n",
    "\n",
    "toggle = Toggle(label=\"Community Areas\", button_type=\"success\", active=True)\n",
    "t_callback = CustomJS(args=dict(patch=comm_areas), code=\"\"\"\n",
    "    var state = cb_obj.active\n",
    "    patch.visible = state\n",
    "    patch.change.emit();\n",
    "\"\"\")\n",
    "toggle.js_on_click(t_callback)\n",
    "\n",
    "# Arrange plots and widgets in layouts\n",
    "layout = grid(children=[[p, p2], [slider, Spacer()], [toggle, Spacer()]])\n",
    "# output_file(\"test3.html\")\n",
    "output_notebook()\n",
    "show(layout)"
   ]
  },
  {
   "cell_type": "code",
   "execution_count": null,
   "metadata": {},
   "outputs": [],
   "source": [
    "bar_s.column_names"
   ]
  },
  {
   "cell_type": "code",
   "execution_count": null,
   "metadata": {},
   "outputs": [],
   "source": [
    "gdf2018.head()"
   ]
  },
  {
   "cell_type": "code",
   "execution_count": null,
   "metadata": {},
   "outputs": [],
   "source": [
    "bound.head()"
   ]
  },
  {
   "cell_type": "code",
   "execution_count": null,
   "metadata": {},
   "outputs": [],
   "source": [
    "print(plot.x_range.to_json(include_defaults=True)"
   ]
  },
  {
   "cell_type": "code",
   "execution_count": null,
   "metadata": {},
   "outputs": [],
   "source": []
  },
  {
   "cell_type": "code",
   "execution_count": null,
   "metadata": {},
   "outputs": [],
   "source": [
    "group = df2018[df2018.month==6].groupby(\"primary_type\").count().sort_values(\"year\",ascending=False).reset_index()[:10]\n",
    "source = ColumnDataSource(data=group)\n",
    "\n",
    "p2 = figure(x_range=group.primary_type, toolbar_location=None, title=\"Crime Counts\", plot_height=900)\n",
    "x = p2.vbar(x='primary_type', top='year', width=0.9, source=source,\n",
    "       line_color='white', fill_color=factor_cmap('primary_type', palette=viridis(len(group)), factors=group.primary_type)) # , legend_field=\"primary_type\"\n",
    "\n",
    "p2.xgrid.grid_line_color = None\n",
    "# p2.y_range.start = 0\n",
    "# p2.y_range.end = 9\n",
    "# p2.legend.orientation = \"horizontal\"\n",
    "# p2.legend.location = \"top_center\"\n",
    "# ColumnDataSource(data=group[:new])\n",
    "\n",
    "show(p2)\n"
   ]
  },
  {
   "cell_type": "code",
   "execution_count": null,
   "metadata": {},
   "outputs": [],
   "source": [
    "\n"
   ]
  }
 ],
 "metadata": {
  "file_extension": ".py",
  "kernelspec": {
   "display_name": "Python 3",
   "language": "python",
   "name": "python3"
  },
  "language_info": {
   "codemirror_mode": {
    "name": "ipython",
    "version": 3
   },
   "file_extension": ".py",
   "mimetype": "text/x-python",
   "name": "python",
   "nbconvert_exporter": "python",
   "pygments_lexer": "ipython3",
   "version": "3.7.3"
  },
  "mimetype": "text/x-python",
  "name": "python",
  "npconvert_exporter": "python",
  "pygments_lexer": "ipython3",
  "version": 3
 },
 "nbformat": 4,
 "nbformat_minor": 2
}
