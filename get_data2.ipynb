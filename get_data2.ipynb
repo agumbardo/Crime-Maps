{
 "cells": [
  {
   "cell_type": "code",
   "execution_count": 1,
   "metadata": {},
   "outputs": [],
   "source": [
    "import pandas as pd\n",
    "import numpy as np\n",
    "import google.auth\n",
    "from google.cloud import bigquery\n",
    "from google.cloud import bigquery_storage_v1beta1\n",
    "\n",
    "# Get reusable credentials\n",
    "credentials, your_project_id = google.auth.default(\n",
    "    scopes=[\"https://www.googleapis.com/auth/cloud-platform\"]\n",
    ")\n",
    "\n",
    "# Create \"Client\" objects\n",
    "client = bigquery.Client(credentials=credentials, project=your_project_id)\n",
    "storage_client = bigquery_storage_v1beta1.BigQueryStorageClient(credentials=credentials)\n",
    "\n",
    "# # Construct a reference to the \"chicago_crime\" dataset\n",
    "# dataset_ref = client.dataset(\"chicago_crime\", project=\"bigquery-public-data\")\n",
    "\n",
    "# # API request - fetch the dataset\n",
    "# dataset = client.get_dataset(dataset_ref)\n",
    "\n",
    "# # API request - fetch the table\n",
    "# table_ref = dataset.table('crime')\n",
    "# table = client.get_table(table_ref)"
   ]
  },
  {
   "cell_type": "code",
   "execution_count": 2,
   "metadata": {},
   "outputs": [
    {
     "name": "stdout",
     "output_type": "stream",
     "text": [
      "   unique_key case_number                      date                  block  \\\n",
      "0    11157208    JA522195 2013-11-22 20:30:00+00:00       095XX S AVENUE M   \n",
      "1    10647365    HZ398263 2015-07-16 00:00:00+00:00       132XX S AVENUE N   \n",
      "2     4927040    HM538120 2002-06-01 00:01:00+00:00  082XX S RIDGELAND AVE   \n",
      "3     9088700    HW233645 2003-01-01 01:00:00+00:00     112XX S ALBANY AVE   \n",
      "4    11509297    JB518435 2015-11-16 00:01:00+00:00     053XX S HAMLIN AVE   \n",
      "\n",
      "   iucr                primary_type                          description  \\\n",
      "0  2826               OTHER OFFENSE       HARASSMENT BY ELECTRONIC MEANS   \n",
      "1  1153          DECEPTIVE PRACTICE  FINANCIAL IDENTITY THEFT OVER $ 300   \n",
      "2  1562                 SEX OFFENSE            AGG CRIMINAL SEXUAL ABUSE   \n",
      "3  0266         CRIM SEXUAL ASSAULT                            PREDATORY   \n",
      "4  1753  OFFENSE INVOLVING CHILDREN        SEX ASSLT OF CHILD BY FAM MBR   \n",
      "\n",
      "  location_description  arrest  domestic  ...  ward  community_area  fbi_code  \\\n",
      "0            RESIDENCE   False     False  ...  10.0            52.0        26   \n",
      "1            RESIDENCE   False     False  ...  10.0            55.0        11   \n",
      "2            RESIDENCE   False     False  ...   8.0            45.0        17   \n",
      "3            RESIDENCE   False     False  ...  19.0            74.0        02   \n",
      "4            RESIDENCE   False      True  ...  23.0            62.0        02   \n",
      "\n",
      "   x_coordinate y_coordinate  year                updated_on  latitude  \\\n",
      "0           NaN          NaN  2013 2017-11-23 15:51:19+00:00       NaN   \n",
      "1           NaN          NaN  2015 2016-08-19 15:56:01+00:00       NaN   \n",
      "2           NaN          NaN  2002 2015-08-17 15:03:40+00:00       NaN   \n",
      "3           NaN          NaN  2003 2015-08-17 15:03:40+00:00       NaN   \n",
      "4           NaN          NaN  2015 2018-12-20 16:06:14+00:00       NaN   \n",
      "\n",
      "  longitude  location  \n",
      "0       NaN      None  \n",
      "1       NaN      None  \n",
      "2       NaN      None  \n",
      "3       NaN      None  \n",
      "4       NaN      None  \n",
      "\n",
      "[5 rows x 22 columns]\n"
     ]
    }
   ],
   "source": [
    "table = bigquery_storage_v1beta1.types.TableReference()\n",
    "table.project_id = \"bigquery-public-data\"\n",
    "table.dataset_id = \"chicago_crime\"\n",
    "table.table_id = \"crime\"\n",
    "\n",
    "read_options = bigquery_storage_v1beta1.types.TableReadOptions()\n",
    "# read_options.selected_fields.append(\"species_common_name\")\n",
    "# read_options.selected_fields.append(\"fall_color\")\n",
    "\n",
    "session = storage_client.create_read_session(\n",
    "    table,\n",
    "    parent=\"projects/{}\".format(your_project_id),\n",
    "    read_options=read_options,\n",
    "    format_=bigquery_storage_v1beta1.enums.DataFormat.ARROW,\n",
    "    sharding_strategy=(\n",
    "        bigquery_storage_v1beta1.enums.ShardingStrategy.LIQUID\n",
    "    ),\n",
    ")\n",
    "\n",
    "stream = session.streams[0]\n",
    "position = bigquery_storage_v1beta1.types.StreamPosition(stream=stream)\n",
    "reader = storage_client.read_rows(position)\n",
    "dataframe = reader.to_dataframe(session)\n",
    "print(dataframe.head())"
   ]
  },
  {
   "cell_type": "code",
   "execution_count": 6,
   "metadata": {},
   "outputs": [
    {
     "data": {
      "text/plain": [
       "(7018864, 22)"
      ]
     },
     "execution_count": 6,
     "metadata": {},
     "output_type": "execute_result"
    }
   ],
   "source": [
    "dataframe.shape"
   ]
  },
  {
   "cell_type": "code",
   "execution_count": null,
   "metadata": {},
   "outputs": [],
   "source": []
  }
 ],
 "metadata": {
  "kernelspec": {
   "display_name": "Python 3",
   "language": "python",
   "name": "python3"
  },
  "language_info": {
   "codemirror_mode": {
    "name": "ipython",
    "version": 3
   },
   "file_extension": ".py",
   "mimetype": "text/x-python",
   "name": "python",
   "nbconvert_exporter": "python",
   "pygments_lexer": "ipython3",
   "version": "3.7.3"
  }
 },
 "nbformat": 4,
 "nbformat_minor": 2
}
